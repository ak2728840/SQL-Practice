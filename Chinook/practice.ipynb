{
 "cells": [
  {
   "cell_type": "markdown",
   "metadata": {},
   "source": [
    "# Load db"
   ]
  },
  {
   "cell_type": "code",
   "execution_count": 1,
   "metadata": {},
   "outputs": [],
   "source": [
    "%load_ext sql\n",
    "%config SqlMagic.style = 'PLAIN_COLUMNS'\n",
    "%sql sqlite:///chinook.db"
   ]
  },
  {
   "cell_type": "markdown",
   "metadata": {},
   "source": [
    "# Practice"
   ]
  },
  {
   "cell_type": "markdown",
   "metadata": {},
   "source": [
    "## Level 1: Beginner - Basic SELECT, WHERE, ORDER BY, LIMIT"
   ]
  },
  {
   "cell_type": "markdown",
   "metadata": {},
   "source": [
    "### 1.1 Get all information about all tracks."
   ]
  },
  {
   "cell_type": "code",
   "execution_count": null,
   "metadata": {
    "vscode": {
     "languageId": "sql"
    }
   },
   "outputs": [],
   "source": [
    "%%sql\n",
    "\n",
    "select * from Track\n",
    "limit 10"
   ]
  },
  {
   "cell_type": "markdown",
   "metadata": {
    "vscode": {
     "languageId": "sql"
    }
   },
   "source": [
    "### 1.2 List the names of all artists."
   ]
  },
  {
   "cell_type": "code",
   "execution_count": null,
   "metadata": {
    "vscode": {
     "languageId": "sql"
    }
   },
   "outputs": [],
   "source": [
    "%%sql\n",
    "\n",
    "select * from Artist\n",
    "limit 10"
   ]
  },
  {
   "cell_type": "markdown",
   "metadata": {},
   "source": [
    "### 1.3 Find all customers from Canada."
   ]
  },
  {
   "cell_type": "code",
   "execution_count": null,
   "metadata": {
    "vscode": {
     "languageId": "sql"
    }
   },
   "outputs": [],
   "source": [
    "%%sql\n",
    "\n",
    "select * from Customer \n",
    "where Country = 'Canada'\n",
    "limit 5"
   ]
  },
  {
   "cell_type": "markdown",
   "metadata": {},
   "source": [
    "### 1.4 List the first 10 tracks, showing their Name and UnitPrice."
   ]
  },
  {
   "cell_type": "code",
   "execution_count": null,
   "metadata": {
    "vscode": {
     "languageId": "sql"
    }
   },
   "outputs": [],
   "source": [
    "%%sql\n",
    "\n",
    "SELECT Name, UnitPrice FROM Track LIMIT 10;"
   ]
  },
  {
   "cell_type": "markdown",
   "metadata": {
    "vscode": {
     "languageId": "sql"
    }
   },
   "source": [
    "### 1.5 Find all employees who are 'Sales Support Agent' and order them by their LastName."
   ]
  },
  {
   "cell_type": "code",
   "execution_count": null,
   "metadata": {
    "vscode": {
     "languageId": "sql"
    }
   },
   "outputs": [],
   "source": [
    "%%sql\n",
    "\n",
    "SELECT * FROM Employee\n",
    "where Title = 'Sales Support Agent'\n",
    "order by LastName\n",
    "LIMIT 10"
   ]
  },
  {
   "cell_type": "markdown",
   "metadata": {},
   "source": [
    "### 1.6. Get the unique list of cities where customers are located."
   ]
  },
  {
   "cell_type": "code",
   "execution_count": null,
   "metadata": {
    "vscode": {
     "languageId": "sql"
    }
   },
   "outputs": [],
   "source": [
    "%%sql\n",
    "\n",
    "SELECT distinct City from Customer\n",
    "LIMIT 10;"
   ]
  },
  {
   "cell_type": "markdown",
   "metadata": {},
   "source": [
    "### 1.7. Find all invoices with a total greater than $10.00."
   ]
  },
  {
   "cell_type": "code",
   "execution_count": 5,
   "metadata": {
    "vscode": {
     "languageId": "sql"
    }
   },
   "outputs": [
    {
     "name": "stdout",
     "output_type": "stream",
     "text": [
      " * sqlite:///chinook.db\n",
      "Done.\n"
     ]
    },
    {
     "data": {
      "text/html": [
       "<table>\n",
       "    <tr>\n",
       "        <th>InvoiceId</th>\n",
       "        <th>CustomerId</th>\n",
       "        <th>InvoiceDate</th>\n",
       "        <th>BillingAddress</th>\n",
       "        <th>BillingCity</th>\n",
       "        <th>BillingState</th>\n",
       "        <th>BillingCountry</th>\n",
       "        <th>BillingPostalCode</th>\n",
       "        <th>Total</th>\n",
       "    </tr>\n",
       "    <tr>\n",
       "        <td>5</td>\n",
       "        <td>23</td>\n",
       "        <td>2009-01-11 00:00:00</td>\n",
       "        <td>69 Salem Street</td>\n",
       "        <td>Boston</td>\n",
       "        <td>MA</td>\n",
       "        <td>USA</td>\n",
       "        <td>2113</td>\n",
       "        <td>13.86</td>\n",
       "    </tr>\n",
       "    <tr>\n",
       "        <td>12</td>\n",
       "        <td>2</td>\n",
       "        <td>2009-02-11 00:00:00</td>\n",
       "        <td>Theodor-Heuss-Straße 34</td>\n",
       "        <td>Stuttgart</td>\n",
       "        <td>None</td>\n",
       "        <td>Germany</td>\n",
       "        <td>70174</td>\n",
       "        <td>13.86</td>\n",
       "    </tr>\n",
       "    <tr>\n",
       "        <td>19</td>\n",
       "        <td>40</td>\n",
       "        <td>2009-03-14 00:00:00</td>\n",
       "        <td>8, Rue Hanovre</td>\n",
       "        <td>Paris</td>\n",
       "        <td>None</td>\n",
       "        <td>France</td>\n",
       "        <td>75002</td>\n",
       "        <td>13.86</td>\n",
       "    </tr>\n",
       "    <tr>\n",
       "        <td>26</td>\n",
       "        <td>19</td>\n",
       "        <td>2009-04-14 00:00:00</td>\n",
       "        <td>1 Infinite Loop</td>\n",
       "        <td>Cupertino</td>\n",
       "        <td>CA</td>\n",
       "        <td>USA</td>\n",
       "        <td>95014</td>\n",
       "        <td>13.86</td>\n",
       "    </tr>\n",
       "    <tr>\n",
       "        <td>33</td>\n",
       "        <td>57</td>\n",
       "        <td>2009-05-15 00:00:00</td>\n",
       "        <td>Calle Lira, 198</td>\n",
       "        <td>Santiago</td>\n",
       "        <td>None</td>\n",
       "        <td>Chile</td>\n",
       "        <td>None</td>\n",
       "        <td>13.86</td>\n",
       "    </tr>\n",
       "    <tr>\n",
       "        <td>40</td>\n",
       "        <td>36</td>\n",
       "        <td>2009-06-15 00:00:00</td>\n",
       "        <td>Tauentzienstraße 8</td>\n",
       "        <td>Berlin</td>\n",
       "        <td>None</td>\n",
       "        <td>Germany</td>\n",
       "        <td>10789</td>\n",
       "        <td>13.86</td>\n",
       "    </tr>\n",
       "    <tr>\n",
       "        <td>47</td>\n",
       "        <td>15</td>\n",
       "        <td>2009-07-16 00:00:00</td>\n",
       "        <td>700 W Pender Street</td>\n",
       "        <td>Vancouver</td>\n",
       "        <td>BC</td>\n",
       "        <td>Canada</td>\n",
       "        <td>V6C 1G8</td>\n",
       "        <td>13.86</td>\n",
       "    </tr>\n",
       "    <tr>\n",
       "        <td>54</td>\n",
       "        <td>53</td>\n",
       "        <td>2009-08-16 00:00:00</td>\n",
       "        <td>113 Lupus St</td>\n",
       "        <td>London</td>\n",
       "        <td>None</td>\n",
       "        <td>United Kingdom</td>\n",
       "        <td>SW1V 3EN</td>\n",
       "        <td>13.86</td>\n",
       "    </tr>\n",
       "    <tr>\n",
       "        <td>61</td>\n",
       "        <td>32</td>\n",
       "        <td>2009-09-16 00:00:00</td>\n",
       "        <td>696 Osborne Street</td>\n",
       "        <td>Winnipeg</td>\n",
       "        <td>MB</td>\n",
       "        <td>Canada</td>\n",
       "        <td>R3L 2B9</td>\n",
       "        <td>13.86</td>\n",
       "    </tr>\n",
       "    <tr>\n",
       "        <td>68</td>\n",
       "        <td>11</td>\n",
       "        <td>2009-10-17 00:00:00</td>\n",
       "        <td>Av. Paulista, 2022</td>\n",
       "        <td>São Paulo</td>\n",
       "        <td>SP</td>\n",
       "        <td>Brazil</td>\n",
       "        <td>01310-200</td>\n",
       "        <td>13.86</td>\n",
       "    </tr>\n",
       "</table>"
      ],
      "text/plain": [
       "[(5, 23, '2009-01-11 00:00:00', '69 Salem Street', 'Boston', 'MA', 'USA', '2113', 13.86),\n",
       " (12, 2, '2009-02-11 00:00:00', 'Theodor-Heuss-Straße 34', 'Stuttgart', None, 'Germany', '70174', 13.86),\n",
       " (19, 40, '2009-03-14 00:00:00', '8, Rue Hanovre', 'Paris', None, 'France', '75002', 13.86),\n",
       " (26, 19, '2009-04-14 00:00:00', '1 Infinite Loop', 'Cupertino', 'CA', 'USA', '95014', 13.86),\n",
       " (33, 57, '2009-05-15 00:00:00', 'Calle Lira, 198', 'Santiago', None, 'Chile', None, 13.86),\n",
       " (40, 36, '2009-06-15 00:00:00', 'Tauentzienstraße 8', 'Berlin', None, 'Germany', '10789', 13.86),\n",
       " (47, 15, '2009-07-16 00:00:00', '700 W Pender Street', 'Vancouver', 'BC', 'Canada', 'V6C 1G8', 13.86),\n",
       " (54, 53, '2009-08-16 00:00:00', '113 Lupus St', 'London', None, 'United Kingdom', 'SW1V 3EN', 13.86),\n",
       " (61, 32, '2009-09-16 00:00:00', '696 Osborne Street', 'Winnipeg', 'MB', 'Canada', 'R3L 2B9', 13.86),\n",
       " (68, 11, '2009-10-17 00:00:00', 'Av. Paulista, 2022', 'São Paulo', 'SP', 'Brazil', '01310-200', 13.86)]"
      ]
     },
     "execution_count": 5,
     "metadata": {},
     "output_type": "execute_result"
    }
   ],
   "source": [
    "%%sql\n",
    "\n",
    "SELECT * from Invoice\n",
    "where Total>10.00\n",
    "LIMIT 10"
   ]
  },
  {
   "cell_type": "markdown",
   "metadata": {},
   "source": [
    "## Level 2: Intermediate - AGGREGATE FUNCTIONS, GROUP BY, HAVING, JOINS"
   ]
  },
  {
   "cell_type": "markdown",
   "metadata": {},
   "source": [
    "### 2.1. Count the total number of tracks."
   ]
  },
  {
   "cell_type": "code",
   "execution_count": 7,
   "metadata": {
    "vscode": {
     "languageId": "sql"
    }
   },
   "outputs": [
    {
     "name": "stdout",
     "output_type": "stream",
     "text": [
      " * sqlite:///chinook.db\n",
      "Done.\n"
     ]
    },
    {
     "data": {
      "text/html": [
       "<table>\n",
       "    <tr>\n",
       "        <th>count(*)</th>\n",
       "    </tr>\n",
       "    <tr>\n",
       "        <td>3503</td>\n",
       "    </tr>\n",
       "</table>"
      ],
      "text/plain": [
       "[(3503,)]"
      ]
     },
     "execution_count": 7,
     "metadata": {},
     "output_type": "execute_result"
    }
   ],
   "source": [
    "%%sql\n",
    "\n",
    "SELECT count(*) from Track"
   ]
  },
  {
   "cell_type": "markdown",
   "metadata": {},
   "source": [
    "### 2.2. Find the average UnitPrice of all tracks."
   ]
  },
  {
   "cell_type": "code",
   "execution_count": 9,
   "metadata": {
    "vscode": {
     "languageId": "sql"
    }
   },
   "outputs": [
    {
     "name": "stdout",
     "output_type": "stream",
     "text": [
      " * sqlite:///chinook.db\n",
      "Done.\n"
     ]
    },
    {
     "data": {
      "text/html": [
       "<table>\n",
       "    <tr>\n",
       "        <th>avg(UnitPrice)</th>\n",
       "    </tr>\n",
       "    <tr>\n",
       "        <td>1.0508050242649156</td>\n",
       "    </tr>\n",
       "</table>"
      ],
      "text/plain": [
       "[(1.0508050242649156,)]"
      ]
     },
     "execution_count": 9,
     "metadata": {},
     "output_type": "execute_result"
    }
   ],
   "source": [
    "%%sql\n",
    "\n",
    "SELECT avg(UnitPrice) from Track"
   ]
  },
  {
   "cell_type": "markdown",
   "metadata": {},
   "source": [
    "### 2.3. What is the total sales amount from the Invoice table?"
   ]
  },
  {
   "cell_type": "code",
   "execution_count": 10,
   "metadata": {
    "vscode": {
     "languageId": "sql"
    }
   },
   "outputs": [
    {
     "name": "stdout",
     "output_type": "stream",
     "text": [
      " * sqlite:///chinook.db\n",
      "Done.\n"
     ]
    },
    {
     "data": {
      "text/html": [
       "<table>\n",
       "    <tr>\n",
       "        <th>sum(Total)</th>\n",
       "    </tr>\n",
       "    <tr>\n",
       "        <td>2328.6</td>\n",
       "    </tr>\n",
       "</table>"
      ],
      "text/plain": [
       "[(2328.6,)]"
      ]
     },
     "execution_count": 10,
     "metadata": {},
     "output_type": "execute_result"
    }
   ],
   "source": [
    "%%sql\n",
    "\n",
    "SELECT sum(Total) from Invoice"
   ]
  },
  {
   "cell_type": "code",
   "execution_count": null,
   "metadata": {
    "vscode": {
     "languageId": "sql"
    }
   },
   "outputs": [],
   "source": []
  }
 ],
 "metadata": {
  "kernelspec": {
   "display_name": "ai",
   "language": "python",
   "name": "python3"
  },
  "language_info": {
   "codemirror_mode": {
    "name": "ipython",
    "version": 3
   },
   "file_extension": ".py",
   "mimetype": "text/x-python",
   "name": "python",
   "nbconvert_exporter": "python",
   "pygments_lexer": "ipython3",
   "version": "3.9.23"
  }
 },
 "nbformat": 4,
 "nbformat_minor": 2
}
